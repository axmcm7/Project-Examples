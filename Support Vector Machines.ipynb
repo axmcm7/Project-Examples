{
 "cells": [
  {
   "cell_type": "markdown",
   "metadata": {},
   "source": [
    "# CS 189 Project 1\n",
    "\n",
    "## Alex McMurry\n",
    "\n",
    "### Summary:\n",
    "In this project for my machine learning class, I performed exploratory data analysis, cross-validation, and paramater tuning to optimize the accuracy of the SVM model on email and image-data. In so doing, I utilized Python libraries such as `Numpy`, `Scipy`, and `Scikit-Learn` to implement various classification models."
   ]
  },
  {
   "cell_type": "markdown",
   "metadata": {},
   "source": [
    "# 1) Python Configuration and Data Loading"
   ]
  },
  {
   "cell_type": "code",
   "execution_count": 1,
   "metadata": {},
   "outputs": [
    {
     "name": "stdout",
     "output_type": "stream",
     "text": [
      "\n",
      "loaded mnist data!\n",
      "test_data (10000, 784)\n",
      "training_data (60000, 784)\n",
      "training_labels (60000, 1)\n",
      "\n",
      "loaded spam data!\n",
      "test_data (5857, 32)\n",
      "training_data (5172, 32)\n",
      "training_labels (5172, 1)\n",
      "\n",
      "loaded cifar10 data!\n",
      "test_data (10000, 3072)\n",
      "training_data (50000, 3072)\n",
      "training_labels (50000, 1)\n"
     ]
    }
   ],
   "source": [
    "import random as r\n",
    "import sys\n",
    "import numpy as np\n",
    "import matplotlib.pyplot as plt\n",
    "from sklearn import svm\n",
    "from scipy import io\n",
    "\n",
    "if sys.version_info[0] < 3:\n",
    " raise Exception(\"Python 3 not detected.\")\n",
    "\n",
    "\n",
    "for data_name in [\"mnist\", \"spam\", \"cifar10\"]:\n",
    "    data = io.loadmat(\"data/%s_data.mat\" % data_name)\n",
    "\n",
    "    print(\"\\nloaded %s data!\" % data_name)\n",
    "    fields = \"test_data\", \"training_data\", \"training_labels\"\n",
    "    \n",
    "    for field in fields:\n",
    "        print(field, data[field].shape)"
   ]
  },
  {
   "cell_type": "markdown",
   "metadata": {},
   "source": [
    "# 2) Data Partitioning"
   ]
  },
  {
   "cell_type": "markdown",
   "metadata": {},
   "source": [
    "## (a) \n",
    "Set aside 10000 training images as a validation set. Shuffle the data's indices according to a given random seed and reassign the data accordingly. Then, split the data into training and validation sets."
   ]
  },
  {
   "cell_type": "code",
   "execution_count": 2,
   "metadata": {
    "collapsed": true,
    "scrolled": true
   },
   "outputs": [],
   "source": [
    "# for MNISR, set aside 10,000 training images as a validation set\n",
    "mnist_data = io.loadmat(\"data/mnist_data.mat\")\n",
    "mnist_train = mnist_data[\"training_data\"]\n",
    "mnist_label = mnist_data[\"training_labels\"]\n",
    "mnist_test = mnist_data[\"test_data\"]\n",
    "\n",
    "# Shuffle the indices and reassign the data to the now randomized indices\n",
    "# This ensures the sample rows and label rows are in the same shuffled order\n",
    "def split_mnist(train, label):\n",
    "    mnist_idx = np.arange(60000)\n",
    "    np.random.seed(10)\n",
    "    np.random.shuffle(mnist_idx)\n",
    "    \n",
    "    return train[mnist_idx], label[mnist_idx]\n",
    "\n",
    "mnist_train, mnist_label = split_mnist(mnist_train, mnist_label)\n",
    "\n",
    "# Split the data into training and validation sets\n",
    "mnist_validation_train, mnist_validation_label = mnist_train[:10000], mnist_label[:10000]\n",
    "mnist_new_train, mnist_new_label = mnist_train[10000:], mnist_label[10000:]"
   ]
  },
  {
   "cell_type": "markdown",
   "metadata": {},
   "source": [
    "## (b)\n",
    "Set aside 20% of training data for the validation set. Randomly shuffle the data according to a given random seed, then split the Spam data into training and validation sets."
   ]
  },
  {
   "cell_type": "code",
   "execution_count": 3,
   "metadata": {
    "collapsed": true
   },
   "outputs": [],
   "source": [
    "# for spam_data.mat, set aside 20% of the training data as a validation set\n",
    "spam_data = io.loadmat(\"data/spam_data.mat\")\n",
    "spam_train = spam_data[\"training_data\"]\n",
    "spam_label = spam_data[\"training_labels\"]\n",
    "spam_test = spam_data[\"test_data\"]\n",
    "spam_validate = np.c_[spam_train, spam_label]\n",
    "\n",
    "# Shuffle the indices and reassign the data to the now randomized indices\n",
    "# This ensures the sample rows and label rows are in the same shuffled order\n",
    "def split_spam(train, label):\n",
    "    spam_idx = np.arange(len(spam_train))\n",
    "    np.random.seed(10)\n",
    "    np.random.shuffle(spam_idx)\n",
    "\n",
    "    return train[spam_idx], label[spam_idx]\n",
    "\n",
    "\n",
    "spam_train, spam_label = split_spam(spam_train, spam_label)\n",
    "\n",
    "# Split the data into training and validation sets\n",
    "pct = int(len(spam_train) * 20 / 100)\n",
    "spam_validation_train, spam_validation_label = spam_train[:pct], spam_label[:pct]\n",
    "spam_new_train, spam_new_label = spam_train[pct:], spam_label[pct:]"
   ]
  },
  {
   "cell_type": "markdown",
   "metadata": {},
   "source": [
    "## (c)\n",
    "Set aside 5000 training images of Cifar dataset as a validation set. Then, shuffle the data before splitting the data into training and validation sets."
   ]
  },
  {
   "cell_type": "code",
   "execution_count": 4,
   "metadata": {
    "collapsed": true
   },
   "outputs": [],
   "source": [
    "# for CIFAR-10, set aside 5,000 training images as a validation set. Shuffle the data before splitting\n",
    "cifar_data = io.loadmat(\"data/cifar10_data.mat\")\n",
    "cifar_train = cifar_data[\"training_data\"]\n",
    "cifar_label = cifar_data[\"training_labels\"]\n",
    "cifar_test = cifar_data[\"test_data\"]\n",
    "cifar_validate = np.c_[cifar_train, cifar_label]\n",
    "\n",
    "# Shuffle the indices and reassign the data to the now randomized indices\n",
    "# This ensures the sample rows and label rows are in the same shuffled order\n",
    "def split_cifar(train, label):\n",
    "    cifar_idx = np.arange(len(cifar_train))\n",
    "    np.random.seed(10)\n",
    "    np.random.shuffle(cifar_idx)\n",
    "\n",
    "    return train[cifar_idx], label[cifar_idx]\n",
    "\n",
    "\n",
    "cifar_train, cifar_label = split_cifar(cifar_train, cifar_label)\n",
    "\n",
    "# Split the data into training and validation sets\n",
    "cifar_validation_train, cifar_validation_label = cifar_train[:5000], cifar_label[:5000]\n",
    "cifar_new_train, cifar_new_label = cifar_train[5000:], cifar_label[5000:]"
   ]
  },
  {
   "cell_type": "markdown",
   "metadata": {},
   "source": [
    "# 3) Support Vector Machines: Coding"
   ]
  },
  {
   "cell_type": "markdown",
   "metadata": {},
   "source": [
    "## (a)\n",
    "Use a Sklearn's `LinearSVC` model to create a SVM that classifies our pixel data. Train the model and then store its training and validation accuracies, in a `Pandas` Dataframe, for the different sizes of training samples."
   ]
  },
  {
   "cell_type": "code",
   "execution_count": 6,
   "metadata": {},
   "outputs": [
    {
     "name": "stderr",
     "output_type": "stream",
     "text": [
      "C:\\ProgramData\\Anaconda3\\lib\\site-packages\\sklearn\\utils\\validation.py:578: DataConversionWarning: A column-vector y was passed when a 1d array was expected. Please change the shape of y to (n_samples, ), for example using ravel().\n",
      "  y = column_or_1d(y, warn=True)\n"
     ]
    }
   ],
   "source": [
    "from sklearn.metrics import accuracy_score\n",
    "import pandas as pd\n",
    "\n",
    "# Function trains linear SVC model and predicts labels\n",
    "# Returns accuracy rates from training and validation sets\n",
    "def mnist_svm(size):\n",
    "    model = svm.LinearSVC()\n",
    "    model.fit(mnist_new_train[:size], mnist_new_label[:size])\n",
    "    \n",
    "    predicted_train = model.predict(mnist_new_train[:size])\n",
    "    predicted_validation = model.predict(mnist_validation_train)\n",
    "    \n",
    "    return accuracy_score(mnist_new_label[:size], predicted_train), accuracy_score(mnist_validation_label, predicted_validation)\n",
    "\n",
    "# Create a Pandas DF object to enable easy plotting\n",
    "mnist_model = pd.DataFrame(columns=[\"Size\", \"Training Accuracy\", \"Validation Accuracy\"])\n",
    "\n",
    "for size in [100, 200, 500, 1000, 2000, 5000, 10000]:\n",
    "    train_acc, validation_acc = mnist_svm(size)\n",
    "    mnist_model = mnist_model.append({\"Size\": size, \"Training Accuracy\": train_acc, \"Validation Accuracy\": validation_acc}, ignore_index=True)"
   ]
  },
  {
   "cell_type": "code",
   "execution_count": 7,
   "metadata": {},
   "outputs": [
    {
     "data": {
      "text/html": [
       "<div>\n",
       "<style>\n",
       "    .dataframe thead tr:only-child th {\n",
       "        text-align: right;\n",
       "    }\n",
       "\n",
       "    .dataframe thead th {\n",
       "        text-align: left;\n",
       "    }\n",
       "\n",
       "    .dataframe tbody tr th {\n",
       "        vertical-align: top;\n",
       "    }\n",
       "</style>\n",
       "<table border=\"1\" class=\"dataframe\">\n",
       "  <thead>\n",
       "    <tr style=\"text-align: right;\">\n",
       "      <th></th>\n",
       "      <th>Size</th>\n",
       "      <th>Training Accuracy</th>\n",
       "      <th>Validation Accuracy</th>\n",
       "    </tr>\n",
       "  </thead>\n",
       "  <tbody>\n",
       "    <tr>\n",
       "      <th>0</th>\n",
       "      <td>100.0</td>\n",
       "      <td>1.0000</td>\n",
       "      <td>0.6877</td>\n",
       "    </tr>\n",
       "    <tr>\n",
       "      <th>1</th>\n",
       "      <td>200.0</td>\n",
       "      <td>1.0000</td>\n",
       "      <td>0.7488</td>\n",
       "    </tr>\n",
       "    <tr>\n",
       "      <th>2</th>\n",
       "      <td>500.0</td>\n",
       "      <td>1.0000</td>\n",
       "      <td>0.8140</td>\n",
       "    </tr>\n",
       "    <tr>\n",
       "      <th>3</th>\n",
       "      <td>1000.0</td>\n",
       "      <td>1.0000</td>\n",
       "      <td>0.8188</td>\n",
       "    </tr>\n",
       "    <tr>\n",
       "      <th>4</th>\n",
       "      <td>2000.0</td>\n",
       "      <td>0.9995</td>\n",
       "      <td>0.8122</td>\n",
       "    </tr>\n",
       "    <tr>\n",
       "      <th>5</th>\n",
       "      <td>5000.0</td>\n",
       "      <td>0.9820</td>\n",
       "      <td>0.8393</td>\n",
       "    </tr>\n",
       "    <tr>\n",
       "      <th>6</th>\n",
       "      <td>10000.0</td>\n",
       "      <td>0.9495</td>\n",
       "      <td>0.8533</td>\n",
       "    </tr>\n",
       "  </tbody>\n",
       "</table>\n",
       "</div>"
      ],
      "text/plain": [
       "      Size  Training Accuracy  Validation Accuracy\n",
       "0    100.0             1.0000               0.6877\n",
       "1    200.0             1.0000               0.7488\n",
       "2    500.0             1.0000               0.8140\n",
       "3   1000.0             1.0000               0.8188\n",
       "4   2000.0             0.9995               0.8122\n",
       "5   5000.0             0.9820               0.8393\n",
       "6  10000.0             0.9495               0.8533"
      ]
     },
     "execution_count": 7,
     "metadata": {},
     "output_type": "execute_result"
    }
   ],
   "source": [
    "mnist_model"
   ]
  },
  {
   "cell_type": "markdown",
   "metadata": {},
   "source": [
    "Plot our MNIST model's accuracies vs. different numbers of training samples."
   ]
  },
  {
   "cell_type": "code",
   "execution_count": 12,
   "metadata": {},
   "outputs": [
    {
     "data": {
      "image/png": "[encoded data removed]",
      "text/plain": [
       "<matplotlib.figure.Figure at 0x1a67f932a20>"
      ]
     },
     "metadata": {},
     "output_type": "display_data"
    }
   ],
   "source": [
    "plt.scatter(mnist_model[\"Size\"], mnist_model[\"Training Accuracy\"])\n",
    "plt.scatter(mnist_model[\"Size\"], mnist_model[\"Validation Accuracy\"])\n",
    "\n",
    "plt.xlabel(\"Number of training examples\")\n",
    "plt.ylabel(\"Accuracy\")\n",
    "\n",
    "plt.legend([\"Training Accuracy\", \"Validation Accuracy\"])\n",
    "plt.title(\"MNIST Model Accuracy\")\n",
    "\n",
    "\n",
    "plt.show();"
   ]
  },
  {
   "cell_type": "markdown",
   "metadata": {},
   "source": [
    "Our accuracies are in the desired [70%, 90%] range."
   ]
  },
  {
   "cell_type": "markdown",
   "metadata": {},
   "source": [
    "## (b)\n",
    "Use a Sklearn's `LinearSVC` model to create a SVM that classifies our email data. Train the model and then store it's training and validation accuracies, in a `Pandas` Dataframe, for the different sizes of training samples."
   ]
  },
  {
   "cell_type": "code",
   "execution_count": 9,
   "metadata": {},
   "outputs": [
    {
     "name": "stderr",
     "output_type": "stream",
     "text": [
      "C:\\ProgramData\\Anaconda3\\lib\\site-packages\\sklearn\\utils\\validation.py:578: DataConversionWarning: A column-vector y was passed when a 1d array was expected. Please change the shape of y to (n_samples, ), for example using ravel().\n",
      "  y = column_or_1d(y, warn=True)\n"
     ]
    }
   ],
   "source": [
    "# Function trains linear SVC model and predicts labels\n",
    "# Returns error rates from training and validation sets\n",
    "def spam_svm(size):\n",
    "    model = svm.LinearSVC()\n",
    "    model.fit(spam_new_train[:size], spam_new_label[:size])\n",
    "    \n",
    "    predicted_train = model.predict(spam_new_train[:size])\n",
    "    predicted_validation = model.predict(spam_validation_train)\n",
    "    \n",
    "    return accuracy_score(spam_new_label[:size], predicted_train), accuracy_score(spam_validation_label, predicted_validation)\n",
    "\n",
    "# Create a Pandas DF object to enable easy plotting\n",
    "spam_model = pd.DataFrame(columns=[\"Size\", \"Training Accuracy\", \"Validation Accuracy\"])\n",
    "\n",
    "for size in [100, 200, 500, 1000, 2000, len(spam_new_train)]:\n",
    "    train_acc, validation_acc = spam_svm(size)\n",
    "    spam_model = spam_model.append({\"Size\": size, \"Training Accuracy\": train_acc\\\n",
    "                                    , \"Validation Accuracy\": validation_acc}, ignore_index=True)"
   ]
  },
  {
   "cell_type": "code",
   "execution_count": 10,
   "metadata": {},
   "outputs": [
    {
     "data": {
      "text/html": [
       "<div>\n",
       "<style>\n",
       "    .dataframe thead tr:only-child th {\n",
       "        text-align: right;\n",
       "    }\n",
       "\n",
       "    .dataframe thead th {\n",
       "        text-align: left;\n",
       "    }\n",
       "\n",
       "    .dataframe tbody tr th {\n",
       "        vertical-align: top;\n",
       "    }\n",
       "</style>\n",
       "<table border=\"1\" class=\"dataframe\">\n",
       "  <thead>\n",
       "    <tr style=\"text-align: right;\">\n",
       "      <th></th>\n",
       "      <th>Size</th>\n",
       "      <th>Training Accuracy</th>\n",
       "      <th>Validation Accuracy</th>\n",
       "    </tr>\n",
       "  </thead>\n",
       "  <tbody>\n",
       "    <tr>\n",
       "      <th>0</th>\n",
       "      <td>100.0</td>\n",
       "      <td>0.880000</td>\n",
       "      <td>0.762089</td>\n",
       "    </tr>\n",
       "    <tr>\n",
       "      <th>1</th>\n",
       "      <td>200.0</td>\n",
       "      <td>0.865000</td>\n",
       "      <td>0.770793</td>\n",
       "    </tr>\n",
       "    <tr>\n",
       "      <th>2</th>\n",
       "      <td>500.0</td>\n",
       "      <td>0.804000</td>\n",
       "      <td>0.777563</td>\n",
       "    </tr>\n",
       "    <tr>\n",
       "      <th>3</th>\n",
       "      <td>1000.0</td>\n",
       "      <td>0.803000</td>\n",
       "      <td>0.777563</td>\n",
       "    </tr>\n",
       "    <tr>\n",
       "      <th>4</th>\n",
       "      <td>2000.0</td>\n",
       "      <td>0.806000</td>\n",
       "      <td>0.783366</td>\n",
       "    </tr>\n",
       "    <tr>\n",
       "      <th>5</th>\n",
       "      <td>4138.0</td>\n",
       "      <td>0.815611</td>\n",
       "      <td>0.787234</td>\n",
       "    </tr>\n",
       "  </tbody>\n",
       "</table>\n",
       "</div>"
      ],
      "text/plain": [
       "     Size  Training Accuracy  Validation Accuracy\n",
       "0   100.0           0.880000             0.762089\n",
       "1   200.0           0.865000             0.770793\n",
       "2   500.0           0.804000             0.777563\n",
       "3  1000.0           0.803000             0.777563\n",
       "4  2000.0           0.806000             0.783366\n",
       "5  4138.0           0.815611             0.787234"
      ]
     },
     "execution_count": 10,
     "metadata": {},
     "output_type": "execute_result"
    }
   ],
   "source": [
    "spam_model"
   ]
  },
  {
   "cell_type": "markdown",
   "metadata": {},
   "source": [
    "Plot our Spam model's accuracies vs. different numbers of training samples."
   ]
  },
  {
   "cell_type": "code",
   "execution_count": 11,
   "metadata": {},
   "outputs": [
    {
     "data": {
      "image/png": "[encoded data removed]",
      "text/plain": [
       "<matplotlib.figure.Figure at 0x1a6532fa048>"
      ]
     },
     "metadata": {},
     "output_type": "display_data"
    }
   ],
   "source": [
    "plt.scatter(spam_model[\"Size\"], spam_model[\"Training Accuracy\"])\n",
    "plt.scatter(spam_model[\"Size\"], spam_model[\"Validation Accuracy\"])\n",
    "\n",
    "plt.xlabel(\"Number of training examples\")\n",
    "plt.ylabel(\"Accuracy\")\n",
    "\n",
    "plt.legend([\"Training Accuracy\", \"Validation Accuracy\"])\n",
    "plt.title(\"Spam Model Accuracy\")\n",
    "\n",
    "\n",
    "plt.show();"
   ]
  },
  {
   "cell_type": "markdown",
   "metadata": {},
   "source": [
    "Our accuracies are in the desired [70%, 90%] range."
   ]
  },
  {
   "cell_type": "markdown",
   "metadata": {},
   "source": [
    "## (c)\n",
    "Use a Sklearn's `SVC` model, for performance reasons cited on Piazza, to create a SVM that classifies our pixel data. Train the model and then store it's training and validation accuracies, in a `Pandas` Dataframe, for the different sizes of training samples."
   ]
  },
  {
   "cell_type": "code",
   "execution_count": 13,
   "metadata": {},
   "outputs": [
    {
     "name": "stderr",
     "output_type": "stream",
     "text": [
      "C:\\ProgramData\\Anaconda3\\lib\\site-packages\\sklearn\\utils\\validation.py:578: DataConversionWarning: A column-vector y was passed when a 1d array was expected. Please change the shape of y to (n_samples, ), for example using ravel().\n",
      "  y = column_or_1d(y, warn=True)\n"
     ]
    }
   ],
   "source": [
    "# Function trains linear SVC model and predicts labels\n",
    "# Returns error rates from training and validation sets\n",
    "def cifar_svm(size):\n",
    "    model = svm.SVC(kernel=\"linear\")\n",
    "    model.fit(cifar_new_train[:size], cifar_new_label[:size])\n",
    "\n",
    "    predicted_train = model.predict(cifar_new_train[:size])\n",
    "    predicted_validation = model.predict(cifar_validation_train)\n",
    "\n",
    "    return accuracy_score(cifar_new_label[:size], predicted_train), accuracy_score(cifar_validation_label,\n",
    "                                                                                           predicted_validation)\n",
    "\n",
    "\n",
    "# Create a Pandas DF object to enable easy plotting\n",
    "cifar_model = pd.DataFrame(columns=[\"Size\", \"Training Accuracy\", \"Validation Accuracy\"])\n",
    "\n",
    "for size in [100, 200, 500, 1000, 2000, 5000]:\n",
    "    train_acc, validation_acc = cifar_svm(size)\n",
    "    cifar_model = cifar_model.append({\"Size\": size, \"Training Accuracy\": train_acc\\\n",
    "                                      , \"Validation Accuracy\": validation_acc},\n",
    "                                     ignore_index=True)"
   ]
  },
  {
   "cell_type": "code",
   "execution_count": 14,
   "metadata": {},
   "outputs": [
    {
     "data": {
      "text/html": [
       "<div>\n",
       "<style>\n",
       "    .dataframe thead tr:only-child th {\n",
       "        text-align: right;\n",
       "    }\n",
       "\n",
       "    .dataframe thead th {\n",
       "        text-align: left;\n",
       "    }\n",
       "\n",
       "    .dataframe tbody tr th {\n",
       "        vertical-align: top;\n",
       "    }\n",
       "</style>\n",
       "<table border=\"1\" class=\"dataframe\">\n",
       "  <thead>\n",
       "    <tr style=\"text-align: right;\">\n",
       "      <th></th>\n",
       "      <th>Size</th>\n",
       "      <th>Training Accuracy</th>\n",
       "      <th>Validation Accuracy</th>\n",
       "    </tr>\n",
       "  </thead>\n",
       "  <tbody>\n",
       "    <tr>\n",
       "      <th>0</th>\n",
       "      <td>100.0</td>\n",
       "      <td>1.0</td>\n",
       "      <td>0.2468</td>\n",
       "    </tr>\n",
       "    <tr>\n",
       "      <th>1</th>\n",
       "      <td>200.0</td>\n",
       "      <td>1.0</td>\n",
       "      <td>0.2642</td>\n",
       "    </tr>\n",
       "    <tr>\n",
       "      <th>2</th>\n",
       "      <td>500.0</td>\n",
       "      <td>1.0</td>\n",
       "      <td>0.2890</td>\n",
       "    </tr>\n",
       "    <tr>\n",
       "      <th>3</th>\n",
       "      <td>1000.0</td>\n",
       "      <td>1.0</td>\n",
       "      <td>0.2998</td>\n",
       "    </tr>\n",
       "    <tr>\n",
       "      <th>4</th>\n",
       "      <td>2000.0</td>\n",
       "      <td>1.0</td>\n",
       "      <td>0.3092</td>\n",
       "    </tr>\n",
       "    <tr>\n",
       "      <th>5</th>\n",
       "      <td>5000.0</td>\n",
       "      <td>1.0</td>\n",
       "      <td>0.3154</td>\n",
       "    </tr>\n",
       "  </tbody>\n",
       "</table>\n",
       "</div>"
      ],
      "text/plain": [
       "     Size  Training Accuracy  Validation Accuracy\n",
       "0   100.0                1.0               0.2468\n",
       "1   200.0                1.0               0.2642\n",
       "2   500.0                1.0               0.2890\n",
       "3  1000.0                1.0               0.2998\n",
       "4  2000.0                1.0               0.3092\n",
       "5  5000.0                1.0               0.3154"
      ]
     },
     "execution_count": 14,
     "metadata": {},
     "output_type": "execute_result"
    }
   ],
   "source": [
    "cifar_model"
   ]
  },
  {
   "cell_type": "markdown",
   "metadata": {},
   "source": [
    "For our Cifar model, plot its accuracies vs. the different number of training samples."
   ]
  },
  {
   "cell_type": "code",
   "execution_count": 15,
   "metadata": {},
   "outputs": [
    {
     "data": {
      "image/png": "[encoded data removed]",
      "text/plain": [
       "<matplotlib.figure.Figure at 0x1a67f09b550>"
      ]
     },
     "metadata": {},
     "output_type": "display_data"
    }
   ],
   "source": [
    "plt.scatter(cifar_model[\"Size\"], cifar_model[\"Training Accuracy\"])\n",
    "plt.scatter(cifar_model[\"Size\"], cifar_model[\"Validation Accuracy\"])\n",
    "\n",
    "plt.xlabel(\"Number of training examples\")\n",
    "plt.ylabel(\"Accuracy\")\n",
    "\n",
    "plt.legend([\"Training Accuracy\", \"Validation Accuracy\"])\n",
    "plt.title(\"Cifar Model Accuracy\")\n",
    "\n",
    "plt.show();"
   ]
  },
  {
   "cell_type": "markdown",
   "metadata": {},
   "source": [
    "Our accuracies are in the desired [25%, 35%] range."
   ]
  },
  {
   "cell_type": "markdown",
   "metadata": {},
   "source": [
    "# 4) Hyperparameter Tuning"
   ]
  },
  {
   "cell_type": "markdown",
   "metadata": {},
   "source": [
    "## (a)\n",
    "\n",
    "Looking for $c \\in [10^{-10}, 10^{10}]$ (a geometric range that will be computationally cheaper than the naive approach) that minimizes Validation Error ==> highest accuracy on validation dataset. Iterate through powers of 10 to find the best c-value."
   ]
  },
  {
   "cell_type": "code",
   "execution_count": 16,
   "metadata": {},
   "outputs": [
    {
     "name": "stderr",
     "output_type": "stream",
     "text": [
      "C:\\ProgramData\\Anaconda3\\lib\\site-packages\\sklearn\\utils\\validation.py:578: DataConversionWarning: A column-vector y was passed when a 1d array was expected. Please change the shape of y to (n_samples, ), for example using ravel().\n",
      "  y = column_or_1d(y, warn=True)\n"
     ]
    }
   ],
   "source": [
    "def mnist_svm_c(c, size=10000):\n",
    "    model = svm.LinearSVC(C=c)\n",
    "    model.fit(mnist_new_train[:size], mnist_new_label[:size])\n",
    "    \n",
    "    predicted_train = model.predict(mnist_new_train[:size])\n",
    "    predicted_validation = model.predict(mnist_validation_train)\n",
    "    \n",
    "    return accuracy_score(mnist_new_label[:size], predicted_train), accuracy_score(mnist_validation_label, predicted_validation)\n",
    "\n",
    "# Create a Pandas DF object to enable easy plotting\n",
    "mnist_model_c = pd.DataFrame(columns=[\"C-value\", \"Training Accuracy\", \"Validation Accuracy\"])\n",
    "\n",
    "power = -10\n",
    "c = 10 ** power\n",
    "\n",
    "for i in range(20):\n",
    "    train_acc, validation_acc = mnist_svm_c(c)\n",
    "    mnist_model_c = mnist_model_c.append({\"C-value\": c, \"Training Accuracy\": train_acc\\\n",
    "                                          , \"Validation Accuracy\": validation_acc}, ignore_index=True)\n",
    "    \n",
    "    #if c == 10 ** -10:\n",
    "    #    power += 1\n",
    "    #    pass        \n",
    "    #elif mnist_model_c[\"Validation Error\"][i] < mnist_model_c[\"Validation Error\"][i - 1]:\n",
    "    #    power += 1\n",
    "    #else:\n",
    "    #    break\n",
    "    \n",
    "    power+=1\n",
    "    c = 10 ** power"
   ]
  },
  {
   "cell_type": "code",
   "execution_count": 17,
   "metadata": {},
   "outputs": [
    {
     "data": {
      "text/html": [
       "<div>\n",
       "<style>\n",
       "    .dataframe thead tr:only-child th {\n",
       "        text-align: right;\n",
       "    }\n",
       "\n",
       "    .dataframe thead th {\n",
       "        text-align: left;\n",
       "    }\n",
       "\n",
       "    .dataframe tbody tr th {\n",
       "        vertical-align: top;\n",
       "    }\n",
       "</style>\n",
       "<table border=\"1\" class=\"dataframe\">\n",
       "  <thead>\n",
       "    <tr style=\"text-align: right;\">\n",
       "      <th></th>\n",
       "      <th>C-value</th>\n",
       "      <th>Training Accuracy</th>\n",
       "      <th>Validation Accuracy</th>\n",
       "    </tr>\n",
       "  </thead>\n",
       "  <tbody>\n",
       "    <tr>\n",
       "      <th>0</th>\n",
       "      <td>1.000000e-10</td>\n",
       "      <td>0.7591</td>\n",
       "      <td>0.7533</td>\n",
       "    </tr>\n",
       "    <tr>\n",
       "      <th>1</th>\n",
       "      <td>1.000000e-09</td>\n",
       "      <td>0.8321</td>\n",
       "      <td>0.8319</td>\n",
       "    </tr>\n",
       "    <tr>\n",
       "      <th>2</th>\n",
       "      <td>1.000000e-08</td>\n",
       "      <td>0.8862</td>\n",
       "      <td>0.8813</td>\n",
       "    </tr>\n",
       "    <tr>\n",
       "      <th>3</th>\n",
       "      <td>1.000000e-07</td>\n",
       "      <td>0.9164</td>\n",
       "      <td>0.8987</td>\n",
       "    </tr>\n",
       "    <tr>\n",
       "      <th>4</th>\n",
       "      <td>1.000000e-06</td>\n",
       "      <td>0.9362</td>\n",
       "      <td>0.8989</td>\n",
       "    </tr>\n",
       "    <tr>\n",
       "      <th>5</th>\n",
       "      <td>1.000000e-05</td>\n",
       "      <td>0.9565</td>\n",
       "      <td>0.8876</td>\n",
       "    </tr>\n",
       "    <tr>\n",
       "      <th>6</th>\n",
       "      <td>1.000000e-04</td>\n",
       "      <td>0.9632</td>\n",
       "      <td>0.8684</td>\n",
       "    </tr>\n",
       "    <tr>\n",
       "      <th>7</th>\n",
       "      <td>1.000000e-03</td>\n",
       "      <td>0.9445</td>\n",
       "      <td>0.8466</td>\n",
       "    </tr>\n",
       "    <tr>\n",
       "      <th>8</th>\n",
       "      <td>1.000000e-02</td>\n",
       "      <td>0.9293</td>\n",
       "      <td>0.8349</td>\n",
       "    </tr>\n",
       "    <tr>\n",
       "      <th>9</th>\n",
       "      <td>1.000000e-01</td>\n",
       "      <td>0.9261</td>\n",
       "      <td>0.8389</td>\n",
       "    </tr>\n",
       "    <tr>\n",
       "      <th>10</th>\n",
       "      <td>1.000000e+00</td>\n",
       "      <td>0.9317</td>\n",
       "      <td>0.8339</td>\n",
       "    </tr>\n",
       "    <tr>\n",
       "      <th>11</th>\n",
       "      <td>1.000000e+01</td>\n",
       "      <td>0.9508</td>\n",
       "      <td>0.8496</td>\n",
       "    </tr>\n",
       "    <tr>\n",
       "      <th>12</th>\n",
       "      <td>1.000000e+02</td>\n",
       "      <td>0.9545</td>\n",
       "      <td>0.8550</td>\n",
       "    </tr>\n",
       "    <tr>\n",
       "      <th>13</th>\n",
       "      <td>1.000000e+03</td>\n",
       "      <td>0.9492</td>\n",
       "      <td>0.8549</td>\n",
       "    </tr>\n",
       "    <tr>\n",
       "      <th>14</th>\n",
       "      <td>1.000000e+04</td>\n",
       "      <td>0.9519</td>\n",
       "      <td>0.8506</td>\n",
       "    </tr>\n",
       "    <tr>\n",
       "      <th>15</th>\n",
       "      <td>1.000000e+05</td>\n",
       "      <td>0.9411</td>\n",
       "      <td>0.8470</td>\n",
       "    </tr>\n",
       "    <tr>\n",
       "      <th>16</th>\n",
       "      <td>1.000000e+06</td>\n",
       "      <td>0.9430</td>\n",
       "      <td>0.8496</td>\n",
       "    </tr>\n",
       "    <tr>\n",
       "      <th>17</th>\n",
       "      <td>1.000000e+07</td>\n",
       "      <td>0.9505</td>\n",
       "      <td>0.8551</td>\n",
       "    </tr>\n",
       "    <tr>\n",
       "      <th>18</th>\n",
       "      <td>1.000000e+08</td>\n",
       "      <td>0.9314</td>\n",
       "      <td>0.8373</td>\n",
       "    </tr>\n",
       "    <tr>\n",
       "      <th>19</th>\n",
       "      <td>1.000000e+09</td>\n",
       "      <td>0.9406</td>\n",
       "      <td>0.8467</td>\n",
       "    </tr>\n",
       "  </tbody>\n",
       "</table>\n",
       "</div>"
      ],
      "text/plain": [
       "         C-value  Training Accuracy  Validation Accuracy\n",
       "0   1.000000e-10             0.7591               0.7533\n",
       "1   1.000000e-09             0.8321               0.8319\n",
       "2   1.000000e-08             0.8862               0.8813\n",
       "3   1.000000e-07             0.9164               0.8987\n",
       "4   1.000000e-06             0.9362               0.8989\n",
       "5   1.000000e-05             0.9565               0.8876\n",
       "6   1.000000e-04             0.9632               0.8684\n",
       "7   1.000000e-03             0.9445               0.8466\n",
       "8   1.000000e-02             0.9293               0.8349\n",
       "9   1.000000e-01             0.9261               0.8389\n",
       "10  1.000000e+00             0.9317               0.8339\n",
       "11  1.000000e+01             0.9508               0.8496\n",
       "12  1.000000e+02             0.9545               0.8550\n",
       "13  1.000000e+03             0.9492               0.8549\n",
       "14  1.000000e+04             0.9519               0.8506\n",
       "15  1.000000e+05             0.9411               0.8470\n",
       "16  1.000000e+06             0.9430               0.8496\n",
       "17  1.000000e+07             0.9505               0.8551\n",
       "18  1.000000e+08             0.9314               0.8373\n",
       "19  1.000000e+09             0.9406               0.8467"
      ]
     },
     "execution_count": 17,
     "metadata": {},
     "output_type": "execute_result"
    }
   ],
   "source": [
    "mnist_model_c"
   ]
  },
  {
   "cell_type": "markdown",
   "metadata": {},
   "source": [
    "Plot our model's vlidation accuracy vs. the different c-values."
   ]
  },
  {
   "cell_type": "code",
   "execution_count": 18,
   "metadata": {},
   "outputs": [
    {
     "data": {
      "image/png": "[encoded data removed]",
      "text/plain": [
       "<matplotlib.figure.Figure at 0x1a6533c9da0>"
      ]
     },
     "metadata": {},
     "output_type": "display_data"
    }
   ],
   "source": [
    "figure = plt.figure()\n",
    "ax = figure.add_subplot(1, 1, 1)\n",
    "ax.set_xscale(\"log\")\n",
    "\n",
    "plt.xlabel(\"C-value\")\n",
    "plt.ylabel(\"Validation Accuracy\")\n",
    "\n",
    "plt.title(\"MNIST_c Model Accuracy\")\n",
    "\n",
    "ax.plot(mnist_model_c[\"C-value\"], mnist_model_c[\"Validation Accuracy\"])\n",
    "\n",
    "\n",
    "plt.show();"
   ]
  },
  {
   "cell_type": "code",
   "execution_count": 29,
   "metadata": {},
   "outputs": [
    {
     "data": {
      "text/plain": [
       "4    0.000001\n",
       "Name: C-value, dtype: float64"
      ]
     },
     "execution_count": 29,
     "metadata": {},
     "output_type": "execute_result"
    }
   ],
   "source": [
    "best_acc = max(mnist_model_c[\"Validation Accuracy\"])\n",
    "best_c = mnist_model_c[mnist_model_c[\"Validation Accuracy\"] == best_acc][\"C-value\"]\n",
    "best_c"
   ]
  },
  {
   "cell_type": "markdown",
   "metadata": {},
   "source": [
    "Our best c-value, the one that achieves the highest accuracy, is approximately $10^{-6}$ ."
   ]
  },
  {
   "cell_type": "markdown",
   "metadata": {},
   "source": [
    "# 5) K-Fold Cross-Validation"
   ]
  },
  {
   "cell_type": "markdown",
   "metadata": {},
   "source": [
    "## (a)\n",
    "Split the spam data with random indices based on a given seed value in the range(5). This ensures the 5-fold cross validation partitions the data stochastically while keeping the correct rows and labels together at the same indices."
   ]
  },
  {
   "cell_type": "code",
   "execution_count": 19,
   "metadata": {
    "collapsed": true,
    "scrolled": true
   },
   "outputs": [],
   "source": [
    "def k_split_spam(train, label, seed_val):\n",
    "    spam_idx = np.arange(len(spam_train))\n",
    "    np.random.seed(seed_val)\n",
    "    np.random.shuffle(spam_idx)\n",
    "\n",
    "    return train[spam_idx], label[spam_idx]\n",
    "\n",
    "validation_features,  validation_labels = {}, {}\n",
    "train_features, train_labels = {}, {}\n",
    "proportion = int(len(spam_train) * (1 / 5))\n",
    "\n",
    "for i in range(5):\n",
    "    spam_train, spam_label = k_split_spam(spam_train, spam_label, i)\n",
    "    spam_validation_train, spam_validation_label = spam_train[:proportion], spam_label[:proportion]\n",
    "    spam_new_train, spam_new_label = spam_train[proportion:], spam_label[proportion:]\n",
    "    \n",
    "    validation_features[i], validation_labels[i] = spam_train[:proportion], spam_label[:proportion]\n",
    "    train_features[i], train_labels[i] = spam_train[proportion:], spam_label[proportion:]"
   ]
  },
  {
   "cell_type": "markdown",
   "metadata": {},
   "source": [
    "Use a Sklearn's `LinearSVC` model to create a SVM that classifies our spam data. Train the model and then store its training and validation accuracies, in a `Pandas` Dataframe, with c-value=1; a c-value that seemed to yield the best accuracy empirically when I was testing."
   ]
  },
  {
   "cell_type": "code",
   "execution_count": 20,
   "metadata": {
    "collapsed": true
   },
   "outputs": [],
   "source": [
    "def spam_cross_validation(c=1, k=5):    \n",
    "    size = int(len(spam_train) / k)\n",
    "    train_accuracies = []\n",
    "    validation_accuracies = []\n",
    "    \n",
    "    for i in range(k):\n",
    "        model = svm.LinearSVC(C=c)\n",
    "        model.fit(train_features[i][:size], train_labels[i][:size])\n",
    "\n",
    "        predicted_train = model.predict(train_features[i][:size])\n",
    "        predicted_validation = model.predict(validation_features[i])\n",
    "        \n",
    "        train_accuracies.append(accuracy_score(train_labels[i][:size], predicted_train))\n",
    "        validation_accuracies.append(accuracy_score(validation_labels[i], predicted_validation))\n",
    "        \n",
    "    return np.average(train_accuracies), np.average(validation_accuracies)\n",
    "\n",
    "# Create a Pandas DF object to enable easy plotting\n",
    "spam_model_cross = pd.DataFrame(columns=[\"C-value\", \"Avg. Training Accuracy\", \"Avg. Validation Accuracy\"])"
   ]
  },
  {
   "cell_type": "code",
   "execution_count": 21,
   "metadata": {
    "scrolled": true
   },
   "outputs": [
    {
     "name": "stderr",
     "output_type": "stream",
     "text": [
      "C:\\ProgramData\\Anaconda3\\lib\\site-packages\\sklearn\\utils\\validation.py:578: DataConversionWarning: A column-vector y was passed when a 1d array was expected. Please change the shape of y to (n_samples, ), for example using ravel().\n",
      "  y = column_or_1d(y, warn=True)\n"
     ]
    }
   ],
   "source": [
    "power = -10\n",
    "c = 10 ** power\n",
    "\n",
    "for i in range(20):\n",
    "    train_acc, validation_acc = spam_cross_validation(c)\n",
    "    spam_model_cross = spam_model_cross.append({\"C-value\": c, \"Avg. Training Accuracy\": train_acc\\\n",
    "                                          , \"Avg. Validation Accuracy\": validation_acc}, ignore_index=True)\n",
    "    \n",
    "    #if c == 10 ** -10:\n",
    "    #    power += 1\n",
    "    #    pass        \n",
    "    #elif spam_model_cross[\"Avg. Validation Error\"][i] < spam_model_cross[\"Avg. Validation Error\"][i - 1]:\n",
    "    #    power += 1\n",
    "    #else:\n",
    "    #    break\n",
    "    \n",
    "    power+=1\n",
    "    c = 10 ** power"
   ]
  },
  {
   "cell_type": "code",
   "execution_count": 22,
   "metadata": {},
   "outputs": [
    {
     "data": {
      "text/html": [
       "<div>\n",
       "<style>\n",
       "    .dataframe thead tr:only-child th {\n",
       "        text-align: right;\n",
       "    }\n",
       "\n",
       "    .dataframe thead th {\n",
       "        text-align: left;\n",
       "    }\n",
       "\n",
       "    .dataframe tbody tr th {\n",
       "        vertical-align: top;\n",
       "    }\n",
       "</style>\n",
       "<table border=\"1\" class=\"dataframe\">\n",
       "  <thead>\n",
       "    <tr style=\"text-align: right;\">\n",
       "      <th></th>\n",
       "      <th>C-value</th>\n",
       "      <th>Avg. Training Accuracy</th>\n",
       "      <th>Avg. Validation Accuracy</th>\n",
       "    </tr>\n",
       "  </thead>\n",
       "  <tbody>\n",
       "    <tr>\n",
       "      <th>0</th>\n",
       "      <td>1.000000e-10</td>\n",
       "      <td>0.754932</td>\n",
       "      <td>0.751838</td>\n",
       "    </tr>\n",
       "    <tr>\n",
       "      <th>1</th>\n",
       "      <td>1.000000e-09</td>\n",
       "      <td>0.755126</td>\n",
       "      <td>0.751838</td>\n",
       "    </tr>\n",
       "    <tr>\n",
       "      <th>2</th>\n",
       "      <td>1.000000e-08</td>\n",
       "      <td>0.755126</td>\n",
       "      <td>0.751838</td>\n",
       "    </tr>\n",
       "    <tr>\n",
       "      <th>3</th>\n",
       "      <td>1.000000e-07</td>\n",
       "      <td>0.755126</td>\n",
       "      <td>0.751838</td>\n",
       "    </tr>\n",
       "    <tr>\n",
       "      <th>4</th>\n",
       "      <td>1.000000e-06</td>\n",
       "      <td>0.755706</td>\n",
       "      <td>0.753578</td>\n",
       "    </tr>\n",
       "    <tr>\n",
       "      <th>5</th>\n",
       "      <td>1.000000e-05</td>\n",
       "      <td>0.762476</td>\n",
       "      <td>0.757253</td>\n",
       "    </tr>\n",
       "    <tr>\n",
       "      <th>6</th>\n",
       "      <td>1.000000e-04</td>\n",
       "      <td>0.768472</td>\n",
       "      <td>0.761896</td>\n",
       "    </tr>\n",
       "    <tr>\n",
       "      <th>7</th>\n",
       "      <td>1.000000e-03</td>\n",
       "      <td>0.778337</td>\n",
       "      <td>0.765957</td>\n",
       "    </tr>\n",
       "    <tr>\n",
       "      <th>8</th>\n",
       "      <td>1.000000e-02</td>\n",
       "      <td>0.797485</td>\n",
       "      <td>0.782979</td>\n",
       "    </tr>\n",
       "    <tr>\n",
       "      <th>9</th>\n",
       "      <td>1.000000e-01</td>\n",
       "      <td>0.813733</td>\n",
       "      <td>0.801161</td>\n",
       "    </tr>\n",
       "    <tr>\n",
       "      <th>10</th>\n",
       "      <td>1.000000e+00</td>\n",
       "      <td>0.816634</td>\n",
       "      <td>0.803482</td>\n",
       "    </tr>\n",
       "    <tr>\n",
       "      <th>11</th>\n",
       "      <td>1.000000e+01</td>\n",
       "      <td>0.822824</td>\n",
       "      <td>0.804255</td>\n",
       "    </tr>\n",
       "    <tr>\n",
       "      <th>12</th>\n",
       "      <td>1.000000e+02</td>\n",
       "      <td>0.823598</td>\n",
       "      <td>0.802515</td>\n",
       "    </tr>\n",
       "    <tr>\n",
       "      <th>13</th>\n",
       "      <td>1.000000e+03</td>\n",
       "      <td>0.765571</td>\n",
       "      <td>0.746615</td>\n",
       "    </tr>\n",
       "    <tr>\n",
       "      <th>14</th>\n",
       "      <td>1.000000e+04</td>\n",
       "      <td>0.763056</td>\n",
       "      <td>0.751451</td>\n",
       "    </tr>\n",
       "    <tr>\n",
       "      <th>15</th>\n",
       "      <td>1.000000e+05</td>\n",
       "      <td>0.725532</td>\n",
       "      <td>0.715861</td>\n",
       "    </tr>\n",
       "    <tr>\n",
       "      <th>16</th>\n",
       "      <td>1.000000e+06</td>\n",
       "      <td>0.778337</td>\n",
       "      <td>0.766344</td>\n",
       "    </tr>\n",
       "    <tr>\n",
       "      <th>17</th>\n",
       "      <td>1.000000e+07</td>\n",
       "      <td>0.781238</td>\n",
       "      <td>0.762089</td>\n",
       "    </tr>\n",
       "    <tr>\n",
       "      <th>18</th>\n",
       "      <td>1.000000e+08</td>\n",
       "      <td>0.724758</td>\n",
       "      <td>0.708897</td>\n",
       "    </tr>\n",
       "    <tr>\n",
       "      <th>19</th>\n",
       "      <td>1.000000e+09</td>\n",
       "      <td>0.789942</td>\n",
       "      <td>0.774855</td>\n",
       "    </tr>\n",
       "  </tbody>\n",
       "</table>\n",
       "</div>"
      ],
      "text/plain": [
       "         C-value  Avg. Training Accuracy  Avg. Validation Accuracy\n",
       "0   1.000000e-10                0.754932                  0.751838\n",
       "1   1.000000e-09                0.755126                  0.751838\n",
       "2   1.000000e-08                0.755126                  0.751838\n",
       "3   1.000000e-07                0.755126                  0.751838\n",
       "4   1.000000e-06                0.755706                  0.753578\n",
       "5   1.000000e-05                0.762476                  0.757253\n",
       "6   1.000000e-04                0.768472                  0.761896\n",
       "7   1.000000e-03                0.778337                  0.765957\n",
       "8   1.000000e-02                0.797485                  0.782979\n",
       "9   1.000000e-01                0.813733                  0.801161\n",
       "10  1.000000e+00                0.816634                  0.803482\n",
       "11  1.000000e+01                0.822824                  0.804255\n",
       "12  1.000000e+02                0.823598                  0.802515\n",
       "13  1.000000e+03                0.765571                  0.746615\n",
       "14  1.000000e+04                0.763056                  0.751451\n",
       "15  1.000000e+05                0.725532                  0.715861\n",
       "16  1.000000e+06                0.778337                  0.766344\n",
       "17  1.000000e+07                0.781238                  0.762089\n",
       "18  1.000000e+08                0.724758                  0.708897\n",
       "19  1.000000e+09                0.789942                  0.774855"
      ]
     },
     "execution_count": 22,
     "metadata": {},
     "output_type": "execute_result"
    }
   ],
   "source": [
    "spam_model_cross"
   ]
  },
  {
   "cell_type": "markdown",
   "metadata": {},
   "source": [
    "Plot our cross-validated spam model's avg. validation accuracies vs. the different c-values we could have used."
   ]
  },
  {
   "cell_type": "code",
   "execution_count": 23,
   "metadata": {},
   "outputs": [
    {
     "data": {
      "image/png": "[encoded data removed]",
      "text/plain": [
       "<matplotlib.figure.Figure at 0x1a654521a58>"
      ]
     },
     "metadata": {},
     "output_type": "display_data"
    }
   ],
   "source": [
    "figure = plt.figure()\n",
    "ax = figure.add_subplot(1, 1, 1)\n",
    "ax.set_xscale(\"log\")\n",
    "\n",
    "plt.xlabel(\"C-value\")\n",
    "plt.ylabel(\"Avg. Validation Accuracy\")\n",
    "\n",
    "plt.title(\"Spam Model Accuracy with Cross Validation\")\n",
    "\n",
    "ax.plot(spam_model_cross[\"C-value\"], spam_model_cross[\"Avg. Validation Accuracy\"])\n",
    "\n",
    "\n",
    "plt.show();"
   ]
  },
  {
   "cell_type": "code",
   "execution_count": 32,
   "metadata": {
    "scrolled": true
   },
   "outputs": [
    {
     "data": {
      "text/plain": [
       "11    10.0\n",
       "Name: C-value, dtype: float64"
      ]
     },
     "execution_count": 32,
     "metadata": {},
     "output_type": "execute_result"
    }
   ],
   "source": [
    "best_val_acc = max(spam_model_cross[\"Avg. Validation Accuracy\"])\n",
    "best_val_c = spam_model_cross[spam_model_cross[\"Avg. Validation Accuracy\"] == best_val_acc][\"C-value\"]\n",
    "best_val_c"
   ]
  },
  {
   "cell_type": "markdown",
   "metadata": {},
   "source": [
    "Our best c-value--the one that minimizes our model's validation error--is then approximately $10^1=10$"
   ]
  }
 ],
 "metadata": {
  "kernelspec": {
   "display_name": "Python 3",
   "language": "python",
   "name": "python3"
  },
  "language_info": {
   "codemirror_mode": {
    "name": "ipython",
    "version": 3
   },
   "file_extension": ".py",
   "mimetype": "text/x-python",
   "name": "python",
   "nbconvert_exporter": "python",
   "pygments_lexer": "ipython3",
   "version": "3.6.3"
  }
 },
 "nbformat": 4,
 "nbformat_minor": 2
}
